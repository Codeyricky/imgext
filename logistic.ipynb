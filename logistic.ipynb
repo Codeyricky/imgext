{
  "nbformat": 4,
  "nbformat_minor": 0,
  "metadata": {
    "colab": {
      "provenance": [],
      "gpuType": "T4"
    },
    "kernelspec": {
      "name": "python3",
      "display_name": "Python 3"
    },
    "language_info": {
      "name": "python"
    },
    "accelerator": "GPU"
  },
  "cells": [
    {
      "cell_type": "code",
      "execution_count": null,
      "metadata": {
        "id": "bTKvGTPHY8di"
      },
      "outputs": [],
      "source": [
        "import numpy as np\n",
        "import cv2\n",
        "import matplotlib.pyplot as plt\n",
        "from tensorflow.keras.datasets import mnist\n",
        "from skimage.feature import local_binary_pattern, hog\n",
        "from skimage import color\n",
        "from sklearn.ensemble import RandomForestClassifier\n",
        "from sklearn.metrics import accuracy_score, precision_score, recall_score, f1_score\n",
        "from sklearn.linear_model import LogisticRegression\n",
        "from tensorflow.keras.applications import ResNet50, VGG16, MobileNetV2\n",
        "from tensorflow.keras.models import Model\n",
        "from tensorflow.keras.applications.resnet50 import preprocess_input as resnet_preprocess\n",
        "from tensorflow.keras.applications.vgg16 import preprocess_input as vgg_preprocess\n",
        "from tensorflow.keras.applications.mobilenet_v2 import preprocess_input as mobilenet_preprocess\n"
      ]
    },
    {
      "cell_type": "code",
      "source": [
        "# Load MNIST dataset\n",
        "(X_train, y_train), (X_test, y_test) = mnist.load_data()\n",
        "\n",
        "# Normalize pixel values (0-1 range)\n",
        "X_train = X_train / 255.0\n",
        "X_test = X_test / 255.0\n"
      ],
      "metadata": {
        "id": "17bRh1m8ZhPY",
        "colab": {
          "base_uri": "https://localhost:8080/"
        },
        "outputId": "4d14f5d0-4b73-4f0d-c280-f5e0442938ad"
      },
      "execution_count": null,
      "outputs": [
        {
          "output_type": "stream",
          "name": "stdout",
          "text": [
            "Downloading data from https://storage.googleapis.com/tensorflow/tf-keras-datasets/mnist.npz\n",
            "\u001b[1m11490434/11490434\u001b[0m \u001b[32m━━━━━━━━━━━━━━━━━━━━\u001b[0m\u001b[37m\u001b[0m \u001b[1m2s\u001b[0m 0us/step\n"
          ]
        }
      ]
    },
    {
      "cell_type": "code",
      "source": [
        "def extract_hog_features(images):\n",
        "    hog_features = []\n",
        "    for img in images:\n",
        "        img_gray = color.rgb2gray(img) if len(img.shape) == 3 else img\n",
        "        features = hog(img_gray, pixels_per_cell=(8, 8), cells_per_block=(2, 2), feature_vector=True)\n",
        "        hog_features.append(features)\n",
        "    return np.array(hog_features)\n",
        "\n",
        "X_train_hog = extract_hog_features(X_train)\n",
        "X_test_hog = extract_hog_features(X_test)\n"
      ],
      "metadata": {
        "id": "pl18Z5mLZj7c"
      },
      "execution_count": null,
      "outputs": []
    },
    {
      "cell_type": "code",
      "source": [
        "def extract_lbp_features(images, radius=1, n_points=8):\n",
        "    lbp_features = []\n",
        "    for img in images:\n",
        "        img_gray = color.rgb2gray(img) if len(img.shape) == 3 else img\n",
        "        lbp = local_binary_pattern(img_gray, P=n_points, R=radius, method='uniform')\n",
        "        lbp_hist, _ = np.histogram(lbp.ravel(), bins=np.arange(0, n_points + 3), range=(0, n_points + 2))\n",
        "        lbp_features.append(lbp_hist / np.sum(lbp_hist))  # Normalize histogram\n",
        "    return np.array(lbp_features)\n",
        "\n",
        "X_train_lbp = extract_lbp_features(X_train)\n",
        "X_test_lbp = extract_lbp_features(X_test)\n"
      ],
      "metadata": {
        "colab": {
          "base_uri": "https://localhost:8080/"
        },
        "id": "aYFsrJt3Zm0k",
        "outputId": "4a3c9e84-ae90-4cc2-f5aa-5bfb02b0bae5"
      },
      "execution_count": null,
      "outputs": [
        {
          "output_type": "stream",
          "name": "stderr",
          "text": [
            "/usr/local/lib/python3.11/dist-packages/skimage/feature/texture.py:385: UserWarning: Applying `local_binary_pattern` to floating-point images may give unexpected results when small numerical differences between adjacent pixels are present. It is recommended to use this function with images of integer dtype.\n",
            "  warnings.warn(\n"
          ]
        }
      ]
    },
    {
      "cell_type": "code",
      "source": [
        "# Reduce dataset size for efficiency\n",
        "subset_size = 5000\n",
        "X_train_subset = X_train[:subset_size]\n",
        "y_train_subset = y_train[:subset_size]\n",
        "X_test_subset = X_test[:1000]\n",
        "\n",
        "# Image preprocessing function\n",
        "IMG_SIZE = 128\n",
        "\n",
        "def preprocess_images(images, img_size=IMG_SIZE, preprocess_func=None):\n",
        "    processed_images = []\n",
        "    for img in images:\n",
        "        img_resized = cv2.resize(img, (img_size, img_size))\n",
        "        img_rgb = np.stack([img_resized] * 3, axis=-1)  # Convert grayscale to 3-channel\n",
        "        processed_images.append(img_rgb)\n",
        "    processed_images = np.array(processed_images, dtype=\"float16\")\n",
        "    return preprocess_func(processed_images) if preprocess_func else processed_images\n"
      ],
      "metadata": {
        "id": "ksudOcZQZ4Iu"
      },
      "execution_count": null,
      "outputs": []
    },
    {
      "cell_type": "code",
      "source": [
        "resnet_model = ResNet50(weights=\"imagenet\", include_top=False, input_shape=(IMG_SIZE, IMG_SIZE, 3))\n",
        "resnet_model = Model(inputs=resnet_model.input, outputs=resnet_model.output)\n",
        "\n",
        "X_train_resnet = preprocess_images(X_train_subset, preprocess_func=resnet_preprocess)\n",
        "X_test_resnet = preprocess_images(X_test_subset, preprocess_func=resnet_preprocess)\n",
        "\n",
        "X_train_resnet_features = resnet_model.predict(X_train_resnet, batch_size=32, verbose=1)\n",
        "X_test_resnet_features = resnet_model.predict(X_test_resnet, batch_size=32, verbose=1)\n",
        "\n",
        "X_train_resnet_features = X_train_resnet_features.reshape(X_train_resnet_features.shape[0], -1)\n",
        "X_test_resnet_features = X_test_resnet_features.reshape(X_test_resnet_features.shape[0], -1)\n"
      ],
      "metadata": {
        "colab": {
          "base_uri": "https://localhost:8080/"
        },
        "id": "ARDie7dGZ7d8",
        "outputId": "e907c0dd-9867-4190-8378-f89b7031219a"
      },
      "execution_count": null,
      "outputs": [
        {
          "output_type": "stream",
          "name": "stdout",
          "text": [
            "Downloading data from https://storage.googleapis.com/tensorflow/keras-applications/resnet/resnet50_weights_tf_dim_ordering_tf_kernels_notop.h5\n",
            "\u001b[1m94765736/94765736\u001b[0m \u001b[32m━━━━━━━━━━━━━━━━━━━━\u001b[0m\u001b[37m\u001b[0m \u001b[1m5s\u001b[0m 0us/step\n",
            "\u001b[1m157/157\u001b[0m \u001b[32m━━━━━━━━━━━━━━━━━━━━\u001b[0m\u001b[37m\u001b[0m \u001b[1m16s\u001b[0m 62ms/step\n",
            "\u001b[1m32/32\u001b[0m \u001b[32m━━━━━━━━━━━━━━━━━━━━\u001b[0m\u001b[37m\u001b[0m \u001b[1m1s\u001b[0m 31ms/step\n"
          ]
        }
      ]
    },
    {
      "cell_type": "code",
      "source": [
        "vgg_model = VGG16(weights=\"imagenet\", include_top=False, input_shape=(IMG_SIZE, IMG_SIZE, 3))\n",
        "vgg_model = Model(inputs=vgg_model.input, outputs=vgg_model.output)\n",
        "\n",
        "X_train_vgg = preprocess_images(X_train_subset, preprocess_func=vgg_preprocess)\n",
        "X_test_vgg = preprocess_images(X_test_subset, preprocess_func=vgg_preprocess)\n",
        "\n",
        "X_train_vgg_features = vgg_model.predict(X_train_vgg, batch_size=32, verbose=1)\n",
        "X_test_vgg_features = vgg_model.predict(X_test_vgg, batch_size=32, verbose=1)\n",
        "\n",
        "X_train_vgg_features = X_train_vgg_features.reshape(X_train_vgg_features.shape[0], -1)\n",
        "X_test_vgg_features = X_test_vgg_features.reshape(X_test_vgg_features.shape[0], -1)\n"
      ],
      "metadata": {
        "id": "rSGqzQqTZ9bd",
        "colab": {
          "base_uri": "https://localhost:8080/"
        },
        "outputId": "dc6f1eab-8e4d-42e6-b776-8e773cd94735"
      },
      "execution_count": null,
      "outputs": [
        {
          "output_type": "stream",
          "name": "stdout",
          "text": [
            "Downloading data from https://storage.googleapis.com/tensorflow/keras-applications/vgg16/vgg16_weights_tf_dim_ordering_tf_kernels_notop.h5\n",
            "\u001b[1m58889256/58889256\u001b[0m \u001b[32m━━━━━━━━━━━━━━━━━━━━\u001b[0m\u001b[37m\u001b[0m \u001b[1m4s\u001b[0m 0us/step\n",
            "\u001b[1m157/157\u001b[0m \u001b[32m━━━━━━━━━━━━━━━━━━━━\u001b[0m\u001b[37m\u001b[0m \u001b[1m17s\u001b[0m 72ms/step\n",
            "\u001b[1m32/32\u001b[0m \u001b[32m━━━━━━━━━━━━━━━━━━━━\u001b[0m\u001b[37m\u001b[0m \u001b[1m2s\u001b[0m 58ms/step\n"
          ]
        }
      ]
    },
    {
      "cell_type": "code",
      "source": [
        "mobilenet_model = MobileNetV2(weights=\"imagenet\", include_top=False, input_shape=(IMG_SIZE, IMG_SIZE, 3))\n",
        "mobilenet_model = Model(inputs=mobilenet_model.input, outputs=mobilenet_model.output)\n",
        "\n",
        "X_train_mobilenet = preprocess_images(X_train_subset, preprocess_func=mobilenet_preprocess)\n",
        "X_test_mobilenet = preprocess_images(X_test_subset, preprocess_func=mobilenet_preprocess)\n",
        "\n",
        "X_train_mobilenet_features = mobilenet_model.predict(X_train_mobilenet, batch_size=32, verbose=1)\n",
        "X_test_mobilenet_features = mobilenet_model.predict(X_test_mobilenet, batch_size=32, verbose=1)\n",
        "\n",
        "X_train_mobilenet_features = X_train_mobilenet_features.reshape(X_train_mobilenet_features.shape[0], -1)\n",
        "X_test_mobilenet_features = X_test_mobilenet_features.reshape(X_test_mobilenet_features.shape[0], -1)\n"
      ],
      "metadata": {
        "id": "tRFdtZ7qZ_Fq",
        "colab": {
          "base_uri": "https://localhost:8080/"
        },
        "outputId": "b171074c-0cd8-40e3-b624-66fd7aa93f39"
      },
      "execution_count": null,
      "outputs": [
        {
          "output_type": "stream",
          "name": "stdout",
          "text": [
            "Downloading data from https://storage.googleapis.com/tensorflow/keras-applications/mobilenet_v2/mobilenet_v2_weights_tf_dim_ordering_tf_kernels_1.0_128_no_top.h5\n",
            "\u001b[1m9406464/9406464\u001b[0m \u001b[32m━━━━━━━━━━━━━━━━━━━━\u001b[0m\u001b[37m\u001b[0m \u001b[1m2s\u001b[0m 0us/step\n",
            "\u001b[1m157/157\u001b[0m \u001b[32m━━━━━━━━━━━━━━━━━━━━\u001b[0m\u001b[37m\u001b[0m \u001b[1m10s\u001b[0m 38ms/step\n",
            "\u001b[1m32/32\u001b[0m \u001b[32m━━━━━━━━━━━━━━━━━━━━\u001b[0m\u001b[37m\u001b[0m \u001b[1m1s\u001b[0m 19ms/step\n"
          ]
        }
      ]
    },
    {
      "cell_type": "code",
      "source": [
        "def train_and_evaluate_lr(X_train, X_test, y_train, y_test, model_name):\n",
        "    clf = LogisticRegression(max_iter=500)\n",
        "    clf.fit(X_train, y_train)\n",
        "\n",
        "    y_pred = clf.predict(X_test)\n",
        "\n",
        "    accuracy = accuracy_score(y_test, y_pred) * 100\n",
        "    precision = precision_score(y_test, y_pred, average=\"weighted\") * 100\n",
        "    recall = recall_score(y_test, y_pred, average=\"weighted\") * 100\n",
        "    f1 = f1_score(y_test, y_pred, average=\"weighted\") * 100\n",
        "\n",
        "    print(f\"\\n{model_name} - Logistic Regression Results:\")\n",
        "    print(f\"Accuracy: {accuracy:.2f}%\")\n",
        "    print(f\"Precision: {precision:.2f}%\")\n",
        "    print(f\"Recall: {recall:.2f}%\")\n",
        "    print(f\"F1 Score: {f1:.2f}%\")\n",
        "\n",
        "    return accuracy\n",
        "lbp_acc = train_and_evaluate_lr(X_train_lbp, X_test_lbp, y_train, y_test, \"LBP\")\n",
        "hog_acc = train_and_evaluate_lr(X_train_hog, X_test_hog, y_train, y_test, \"HOG\")\n",
        "resnet_acc = train_and_evaluate_lr(X_train_resnet_features, X_test_resnet_features, y_train_subset, y_test[:1000], \"ResNet50\")\n",
        "vgg_acc = train_and_evaluate_lr(X_train_vgg_features, X_test_vgg_features, y_train_subset, y_test[:1000], \"VGG16\")\n",
        "mobilenet_acc = train_and_evaluate_lr(X_train_mobilenet_features, X_test_mobilenet_features, y_train_subset, y_test[:1000], \"MobileNetV2\")\n"
      ],
      "metadata": {
        "id": "hFltFJCcaBLc",
        "colab": {
          "base_uri": "https://localhost:8080/"
        },
        "outputId": "aea13067-b2f1-4f50-bdc9-625ae1060cf4"
      },
      "execution_count": null,
      "outputs": [
        {
          "output_type": "stream",
          "name": "stdout",
          "text": [
            "\n",
            "LBP - Logistic Regression Results:\n",
            "Accuracy: 33.20%\n",
            "Precision: 30.54%\n",
            "Recall: 33.20%\n",
            "F1 Score: 28.07%\n",
            "\n",
            "HOG - Logistic Regression Results:\n",
            "Accuracy: 94.75%\n",
            "Precision: 94.75%\n",
            "Recall: 94.75%\n",
            "F1 Score: 94.74%\n"
          ]
        },
        {
          "output_type": "stream",
          "name": "stderr",
          "text": [
            "/usr/local/lib/python3.11/dist-packages/sklearn/linear_model/_logistic.py:465: ConvergenceWarning: lbfgs failed to converge (status=1):\n",
            "STOP: TOTAL NO. of ITERATIONS REACHED LIMIT.\n",
            "\n",
            "Increase the number of iterations (max_iter) or scale the data as shown in:\n",
            "    https://scikit-learn.org/stable/modules/preprocessing.html\n",
            "Please also refer to the documentation for alternative solver options:\n",
            "    https://scikit-learn.org/stable/modules/linear_model.html#logistic-regression\n",
            "  n_iter_i = _check_optimize_result(\n"
          ]
        },
        {
          "output_type": "stream",
          "name": "stdout",
          "text": [
            "\n",
            "ResNet50 - Logistic Regression Results:\n",
            "Accuracy: 97.00%\n",
            "Precision: 97.01%\n",
            "Recall: 97.00%\n",
            "F1 Score: 96.99%\n"
          ]
        },
        {
          "output_type": "stream",
          "name": "stderr",
          "text": [
            "/usr/local/lib/python3.11/dist-packages/sklearn/linear_model/_logistic.py:465: ConvergenceWarning: lbfgs failed to converge (status=1):\n",
            "STOP: TOTAL NO. of ITERATIONS REACHED LIMIT.\n",
            "\n",
            "Increase the number of iterations (max_iter) or scale the data as shown in:\n",
            "    https://scikit-learn.org/stable/modules/preprocessing.html\n",
            "Please also refer to the documentation for alternative solver options:\n",
            "    https://scikit-learn.org/stable/modules/linear_model.html#logistic-regression\n",
            "  n_iter_i = _check_optimize_result(\n"
          ]
        },
        {
          "output_type": "stream",
          "name": "stdout",
          "text": [
            "\n",
            "VGG16 - Logistic Regression Results:\n",
            "Accuracy: 92.80%\n",
            "Precision: 92.82%\n",
            "Recall: 92.80%\n",
            "F1 Score: 92.78%\n",
            "\n",
            "MobileNetV2 - Logistic Regression Results:\n",
            "Accuracy: 96.60%\n",
            "Precision: 96.60%\n",
            "Recall: 96.60%\n",
            "F1 Score: 96.59%\n"
          ]
        },
        {
          "output_type": "stream",
          "name": "stderr",
          "text": [
            "/usr/local/lib/python3.11/dist-packages/sklearn/linear_model/_logistic.py:465: ConvergenceWarning: lbfgs failed to converge (status=1):\n",
            "STOP: TOTAL NO. of ITERATIONS REACHED LIMIT.\n",
            "\n",
            "Increase the number of iterations (max_iter) or scale the data as shown in:\n",
            "    https://scikit-learn.org/stable/modules/preprocessing.html\n",
            "Please also refer to the documentation for alternative solver options:\n",
            "    https://scikit-learn.org/stable/modules/linear_model.html#logistic-regression\n",
            "  n_iter_i = _check_optimize_result(\n"
          ]
        }
      ]
    },
    {
      "cell_type": "code",
      "source": [
        "accuracies_lr = {\n",
        "    \"LBP\": lbp_acc,\n",
        "    \"HOG\": hog_acc,\n",
        "    \"ResNet50\": resnet_acc,\n",
        "    \"VGG16\": vgg_acc,\n",
        "    \"MobileNetV2\": mobilenet_acc\n",
        "}\n",
        "\n",
        "plt.figure(figsize=(10, 6))\n",
        "plt.bar(accuracies_lr.keys(), accuracies_lr.values(), color=[\"blue\", \"blue\", \"green\", \"green\", \"green\"])\n",
        "plt.xlabel(\"Feature Extraction Method\")\n",
        "plt.ylabel(\"Accuracy (%)\")\n",
        "plt.title(\"Accuracy Comparison (Logistic Regression)\")\n",
        "plt.ylim(50, 100)\n",
        "\n",
        "for i, acc in enumerate(accuracies_lr.values()):\n",
        "    plt.text(i, acc + 1, f\"{acc:.1f}%\", ha='center')\n",
        "\n",
        "plt.show()\n"
      ],
      "metadata": {
        "id": "xcG3I670aD6_",
        "colab": {
          "base_uri": "https://localhost:8080/",
          "height": 552
        },
        "outputId": "edf730e4-2183-46db-cb69-87ad8b0fe996"
      },
      "execution_count": null,
      "outputs": [
        {
          "output_type": "display_data",
          "data": {
            "text/plain": [
              "<Figure size 1000x600 with 1 Axes>"
            ],
            "image/png": "[encoded data removed]"
          },
          "metadata": {}
        }
      ]
    }
  ]
}