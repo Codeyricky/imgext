{
  "nbformat": 4,
  "nbformat_minor": 0,
  "metadata": {
    "colab": {
      "provenance": []
    },
    "kernelspec": {
      "name": "python3",
      "display_name": "Python 3"
    },
    "language_info": {
      "name": "python"
    }
  },
  "cells": [
    {
      "cell_type": "code",
      "execution_count": 1,
      "metadata": {
        "id": "wAN8CagRKrP6"
      },
      "outputs": [],
      "source": [
        "import numpy as np\n",
        "import cv2\n",
        "import matplotlib.pyplot as plt\n",
        "from tensorflow.keras.datasets import mnist\n",
        "from skimage.feature import local_binary_pattern\n",
        "from skimage.feature import hog\n",
        "from skimage import color\n",
        "from sklearn.ensemble import RandomForestClassifier\n",
        "from sklearn.metrics import accuracy_score, classification_report\n",
        "\n",
        "# Load dataset\n",
        "(X_train, y_train), (X_test, y_test) = mnist.load_data()\n",
        "\n",
        "# Normalize pixel values (0-1 range)\n",
        "X_train = X_train / 255.0\n",
        "X_test = X_test / 255.0\n"
      ]
    },
    {
      "cell_type": "code",
      "source": [
        "def extract_hog_features(images):\n",
        "    hog_features = []\n",
        "    for img in images:\n",
        "        img_gray = color.rgb2gray(img) if len(img.shape) == 3 else img\n",
        "        features = hog(img_gray, pixels_per_cell=(8,8), cells_per_block=(2,2), feature_vector=True)\n",
        "        hog_features.append(features)\n",
        "    return np.array(hog_features)\n",
        "\n",
        "X_train_hog = extract_hog_features(X_train)\n",
        "X_test_hog = extract_hog_features(X_test)\n"
      ],
      "metadata": {
        "id": "lKUZOH4tMZs4"
      },
      "execution_count": 2,
      "outputs": []
    },
    {
      "cell_type": "code",
      "source": [
        "def extract_lbp_features(images, radius=1, n_points=8):\n",
        "    lbp_features = []\n",
        "    for img in images:\n",
        "        img_gray = color.rgb2gray(img) if len(img.shape) == 3 else img\n",
        "        lbp = local_binary_pattern(img_gray, P=n_points, R=radius, method='uniform')\n",
        "        lbp_hist, _ = np.histogram(lbp.ravel(), bins=np.arange(0, n_points + 3), range=(0, n_points + 2))\n",
        "        lbp_features.append(lbp_hist / np.sum(lbp_hist))  # Normalize histogram\n",
        "    return np.array(lbp_features)\n",
        "\n",
        "X_train_lbp = extract_lbp_features(X_train)\n",
        "X_test_lbp = extract_lbp_features(X_test)\n"
      ],
      "metadata": {
        "colab": {
          "base_uri": "https://localhost:8080/"
        },
        "id": "-7jguxBzMdOU",
        "outputId": "04b901d1-e53c-4b17-8560-f45c73725a03"
      },
      "execution_count": 3,
      "outputs": [
        {
          "output_type": "stream",
          "name": "stderr",
          "text": [
            "/usr/local/lib/python3.11/dist-packages/skimage/feature/texture.py:385: UserWarning: Applying `local_binary_pattern` to floating-point images may give unexpected results when small numerical differences between adjacent pixels are present. It is recommended to use this function with images of integer dtype.\n",
            "  warnings.warn(\n"
          ]
        }
      ]
    },
    {
      "cell_type": "code",
      "source": [
        "# Train classifiers on HOG and LBP features\n",
        "clf_hog = RandomForestClassifier(n_estimators=100)\n",
        "clf_hog.fit(X_train_hog, y_train)\n",
        "y_pred_hog = clf_hog.predict(X_test_hog)\n",
        "\n",
        "clf_lbp = RandomForestClassifier(n_estimators=100)\n",
        "clf_lbp.fit(X_train_lbp, y_train)\n",
        "y_pred_lbp = clf_lbp.predict(X_test_lbp)\n",
        "\n",
        "# Print classification results\n",
        "print(\"HOG Feature Extraction Model Accuracy:\", accuracy_score(y_test, y_pred_hog))\n",
        "print(classification_report(y_test, y_pred_hog))\n",
        "\n",
        "print(\"LBP Feature Extraction Model Accuracy:\", accuracy_score(y_test, y_pred_lbp))\n",
        "print(classification_report(y_test, y_pred_lbp))\n"
      ],
      "metadata": {
        "colab": {
          "base_uri": "https://localhost:8080/"
        },
        "id": "FgtxvG0sMfsX",
        "outputId": "666a7fd9-1a88-40c8-b7d3-11cf5261678f"
      },
      "execution_count": 4,
      "outputs": [
        {
          "output_type": "stream",
          "name": "stdout",
          "text": [
            "HOG Feature Extraction Model Accuracy: 0.9524\n",
            "              precision    recall  f1-score   support\n",
            "\n",
            "           0       0.96      0.99      0.97       980\n",
            "           1       0.98      0.98      0.98      1135\n",
            "           2       0.96      0.97      0.96      1032\n",
            "           3       0.94      0.94      0.94      1010\n",
            "           4       0.95      0.95      0.95       982\n",
            "           5       0.96      0.94      0.95       892\n",
            "           6       0.97      0.97      0.97       958\n",
            "           7       0.95      0.91      0.93      1028\n",
            "           8       0.92      0.94      0.93       974\n",
            "           9       0.93      0.92      0.93      1009\n",
            "\n",
            "    accuracy                           0.95     10000\n",
            "   macro avg       0.95      0.95      0.95     10000\n",
            "weighted avg       0.95      0.95      0.95     10000\n",
            "\n",
            "LBP Feature Extraction Model Accuracy: 0.4264\n",
            "              precision    recall  f1-score   support\n",
            "\n",
            "           0       0.49      0.66      0.56       980\n",
            "           1       0.91      0.97      0.94      1135\n",
            "           2       0.22      0.17      0.19      1032\n",
            "           3       0.27      0.27      0.27      1010\n",
            "           4       0.30      0.33      0.32       982\n",
            "           5       0.25      0.18      0.21       892\n",
            "           6       0.26      0.19      0.22       958\n",
            "           7       0.45      0.57      0.50      1028\n",
            "           8       0.50      0.58      0.54       974\n",
            "           9       0.30      0.26      0.28      1009\n",
            "\n",
            "    accuracy                           0.43     10000\n",
            "   macro avg       0.40      0.42      0.40     10000\n",
            "weighted avg       0.40      0.43      0.41     10000\n",
            "\n"
          ]
        }
      ]
    },
    {
      "cell_type": "code",
      "source": [
        "import numpy as np\n",
        "import cv2\n",
        "from tensorflow.keras.applications import ResNet50, VGG16, MobileNetV2\n",
        "from tensorflow.keras.models import Model\n",
        "from tensorflow.keras.applications.resnet50 import preprocess_input as resnet_preprocess\n",
        "from tensorflow.keras.applications.vgg16 import preprocess_input as vgg_preprocess\n",
        "from tensorflow.keras.applications.mobilenet_v2 import preprocess_input as mobilenet_preprocess\n",
        "from tensorflow.keras.datasets import mnist\n",
        "\n",
        "# Load dataset (Using MNIST for example)\n",
        "(X_train, y_train), (X_test, y_test) = mnist.load_data()\n"
      ],
      "metadata": {
        "id": "LjnD51sTMiZ-"
      },
      "execution_count": 1,
      "outputs": []
    },
    {
      "cell_type": "code",
      "source": [
        "# Reduce dataset size to prevent crashes\n",
        "subset_size = 5000  # Adjust based on system capacity\n",
        "X_train_subset = X_train[:subset_size]\n",
        "y_train_subset = y_train[:subset_size]\n",
        "X_test_subset = X_test[:1000]  # Smaller test set\n",
        "\n",
        "# Reduce image size (use 128x128 instead of 224x224)\n",
        "IMG_SIZE = 128\n",
        "\n",
        "# Function to preprocess images in small batches\n",
        "def preprocess_images(images, img_size=IMG_SIZE, batch_size=1000, preprocess_func=None):\n",
        "    processed_images = []\n",
        "    for i in range(0, len(images), batch_size):\n",
        "        batch = images[i : i + batch_size]\n",
        "        batch_resized = [cv2.resize(img, (img_size, img_size)) for img in batch]\n",
        "        batch_rgb = np.stack([np.stack([img] * 3, axis=-1) for img in batch_resized])\n",
        "        batch_rgb = preprocess_func(batch_rgb) if preprocess_func else batch_rgb\n",
        "        processed_images.append(batch_rgb.astype(\"float16\"))  # Convert to float16 to save memory\n",
        "    return np.vstack(processed_images)\n",
        "\n",
        "print(\"Preprocessing done!\")\n"
      ],
      "metadata": {
        "colab": {
          "base_uri": "https://localhost:8080/"
        },
        "id": "Gs2lmLhhMlF5",
        "outputId": "11de0d5d-8cf6-4518-fb42-b9c04346ae6d"
      },
      "execution_count": 2,
      "outputs": [
        {
          "output_type": "stream",
          "name": "stdout",
          "text": [
            "Preprocessing done!\n"
          ]
        }
      ]
    },
    {
      "cell_type": "code",
      "source": [
        "# Load ResNet50 model (without classifier)\n",
        "resnet_model = ResNet50(weights=\"imagenet\", include_top=False, input_shape=(IMG_SIZE, IMG_SIZE, 3))\n",
        "resnet_model = Model(inputs=resnet_model.input, outputs=resnet_model.output)\n",
        "\n",
        "# Preprocess images for ResNet\n",
        "X_train_resnet = preprocess_images(X_train_subset, preprocess_func=resnet_preprocess)\n",
        "X_test_resnet = preprocess_images(X_test_subset, preprocess_func=resnet_preprocess)\n",
        "\n",
        "# Extract features\n",
        "X_train_resnet_features = resnet_model.predict(X_train_resnet, batch_size=32, verbose=1)\n",
        "X_test_resnet_features = resnet_model.predict(X_test_resnet, batch_size=32, verbose=1)\n",
        "\n",
        "# Flatten features\n",
        "X_train_resnet_features = X_train_resnet_features.reshape(X_train_resnet_features.shape[0], -1)\n",
        "X_test_resnet_features = X_test_resnet_features.reshape(X_test_resnet_features.shape[0], -1)\n",
        "\n",
        "print(f\"ResNet50 Features Shape: {X_train_resnet_features.shape}\")\n"
      ],
      "metadata": {
        "colab": {
          "base_uri": "https://localhost:8080/"
        },
        "id": "b4zzltBBMnIE",
        "outputId": "70d35db2-4f00-4acd-d1f5-5a2f13858200"
      },
      "execution_count": 9,
      "outputs": [
        {
          "output_type": "stream",
          "name": "stdout",
          "text": [
            "\u001b[1m157/157\u001b[0m \u001b[32m━━━━━━━━━━━━━━━━━━━━\u001b[0m\u001b[37m\u001b[0m \u001b[1m310s\u001b[0m 2s/step\n",
            "\u001b[1m32/32\u001b[0m \u001b[32m━━━━━━━━━━━━━━━━━━━━\u001b[0m\u001b[37m\u001b[0m \u001b[1m64s\u001b[0m 2s/step\n",
            "ResNet50 Features Shape: (5000, 32768)\n",
            "Adjusted y_train_subset shape: (5000,)\n",
            "Adjusted y_test_subset shape: (1000,)\n"
          ]
        }
      ]
    },
    {
      "cell_type": "code",
      "source": [
        "# Load VGG16 model (without classifier)\n",
        "vgg_model = VGG16(weights=\"imagenet\", include_top=False, input_shape=(IMG_SIZE, IMG_SIZE, 3))\n",
        "vgg_model = Model(inputs=vgg_model.input, outputs=vgg_model.output)\n",
        "\n",
        "# Preprocess images for VGG\n",
        "X_train_vgg = preprocess_images(X_train_subset, preprocess_func=vgg_preprocess)\n",
        "X_test_vgg = preprocess_images(X_test_subset, preprocess_func=vgg_preprocess)\n",
        "\n",
        "# Extract features\n",
        "X_train_vgg_features = vgg_model.predict(X_train_vgg, batch_size=32, verbose=1)\n",
        "X_test_vgg_features = vgg_model.predict(X_test_vgg, batch_size=32, verbose=1)\n",
        "\n",
        "# Flatten features\n",
        "X_train_vgg_features = X_train_vgg_features.reshape(X_train_vgg_features.shape[0], -1)\n",
        "X_test_vgg_features = X_test_vgg_features.reshape(X_test_vgg_features.shape[0], -1)\n",
        "\n",
        "print(f\"VGG16 Features Shape: {X_train_vgg_features.shape}\")\n"
      ],
      "metadata": {
        "colab": {
          "base_uri": "https://localhost:8080/"
        },
        "id": "ruwtUrG5MpAF",
        "outputId": "6812e5d8-77e7-4b66-a0c9-23f30bcfb5de"
      },
      "execution_count": 4,
      "outputs": [
        {
          "output_type": "stream",
          "name": "stdout",
          "text": [
            "Downloading data from https://storage.googleapis.com/tensorflow/keras-applications/vgg16/vgg16_weights_tf_dim_ordering_tf_kernels_notop.h5\n",
            "\u001b[1m58889256/58889256\u001b[0m \u001b[32m━━━━━━━━━━━━━━━━━━━━\u001b[0m\u001b[37m\u001b[0m \u001b[1m0s\u001b[0m 0us/step\n",
            "\u001b[1m157/157\u001b[0m \u001b[32m━━━━━━━━━━━━━━━━━━━━\u001b[0m\u001b[37m\u001b[0m \u001b[1m999s\u001b[0m 6s/step\n",
            "\u001b[1m32/32\u001b[0m \u001b[32m━━━━━━━━━━━━━━━━━━━━\u001b[0m\u001b[37m\u001b[0m \u001b[1m197s\u001b[0m 6s/step\n",
            "VGG16 Features Shape: (5000, 8192)\n"
          ]
        }
      ]
    },
    {
      "cell_type": "code",
      "source": [
        "# Load MobileNetV2 model (without classifier)\n",
        "mobilenet_model = MobileNetV2(weights=\"imagenet\", include_top=False, input_shape=(IMG_SIZE, IMG_SIZE, 3))\n",
        "mobilenet_model = Model(inputs=mobilenet_model.input, outputs=mobilenet_model.output)\n",
        "\n",
        "# Preprocess images for MobileNet\n",
        "X_train_mobilenet = preprocess_images(X_train_subset, preprocess_func=mobilenet_preprocess)\n",
        "X_test_mobilenet = preprocess_images(X_test_subset, preprocess_func=mobilenet_preprocess)\n",
        "\n",
        "# Extract features\n",
        "X_train_mobilenet_features = mobilenet_model.predict(X_train_mobilenet, batch_size=32, verbose=1)\n",
        "X_test_mobilenet_features = mobilenet_model.predict(X_test_mobilenet, batch_size=32, verbose=1)\n",
        "\n",
        "# Flatten features\n",
        "X_train_mobilenet_features = X_train_mobilenet_features.reshape(X_train_mobilenet_features.shape[0], -1)\n",
        "X_test_mobilenet_features = X_test_mobilenet_features.reshape(X_test_mobilenet_features.shape[0], -1)\n",
        "\n",
        "print(f\"MobileNetV2 Features Shape: {X_train_mobilenet_features.shape}\")\n"
      ],
      "metadata": {
        "colab": {
          "base_uri": "https://localhost:8080/"
        },
        "id": "3H4ZT6ThMtmP",
        "outputId": "375bd679-3da2-47d7-d3b7-7015c112518b"
      },
      "execution_count": 5,
      "outputs": [
        {
          "output_type": "stream",
          "name": "stdout",
          "text": [
            "Downloading data from https://storage.googleapis.com/tensorflow/keras-applications/mobilenet_v2/mobilenet_v2_weights_tf_dim_ordering_tf_kernels_1.0_128_no_top.h5\n",
            "\u001b[1m9406464/9406464\u001b[0m \u001b[32m━━━━━━━━━━━━━━━━━━━━\u001b[0m\u001b[37m\u001b[0m \u001b[1m0s\u001b[0m 0us/step\n",
            "\u001b[1m157/157\u001b[0m \u001b[32m━━━━━━━━━━━━━━━━━━━━\u001b[0m\u001b[37m\u001b[0m \u001b[1m65s\u001b[0m 407ms/step\n",
            "\u001b[1m32/32\u001b[0m \u001b[32m━━━━━━━━━━━━━━━━━━━━\u001b[0m\u001b[37m\u001b[0m \u001b[1m12s\u001b[0m 386ms/step\n",
            "MobileNetV2 Features Shape: (5000, 20480)\n"
          ]
        }
      ]
    },
    {
      "cell_type": "code",
      "source": [
        "import numpy as np\n",
        "from sklearn.preprocessing import StandardScaler\n",
        "from sklearn.ensemble import RandomForestClassifier\n",
        "from sklearn.metrics import accuracy_score, precision_score, recall_score, f1_score\n"
      ],
      "metadata": {
        "id": "iiq6yKZZTVDU"
      },
      "execution_count": 6,
      "outputs": []
    },
    {
      "cell_type": "code",
      "source": [
        "def train_and_evaluate_rf(features_train, features_test, y_train, y_test, model_name=\"Model\"):\n",
        "    \"\"\"\n",
        "    Trains a Random Forest classifier and prints accuracy, precision, recall, and F1-score.\n",
        "    \"\"\"\n",
        "    # Standardize features\n",
        "    scaler = StandardScaler()\n",
        "    X_train_scaled = scaler.fit_transform(features_train)\n",
        "    X_test_scaled = scaler.transform(features_test)\n",
        "\n",
        "    # Train Random Forest classifier\n",
        "    classifier = RandomForestClassifier(n_estimators=100, random_state=42)\n",
        "    classifier.fit(X_train_scaled, y_train)\n",
        "\n",
        "    # Make predictions\n",
        "    y_pred = classifier.predict(X_test_scaled)\n",
        "\n",
        "    # Calculate metrics\n",
        "    accuracy = accuracy_score(y_test, y_pred)\n",
        "    precision = precision_score(y_test, y_pred, average=\"weighted\")\n",
        "    recall = recall_score(y_test, y_pred, average=\"weighted\")\n",
        "    f1 = f1_score(y_test, y_pred, average=\"weighted\")\n",
        "\n",
        "    # Print results\n",
        "    print(f\"\\n🎯 {model_name} Performance (Random Forest Classifier):\")\n",
        "    print(f\"✅ Accuracy: {accuracy:.4f}\")\n",
        "    print(f\"✅ Precision: {precision:.4f}\")\n",
        "    print(f\"✅ Recall: {recall:.4f}\")\n",
        "    print(f\"✅ F1-score: {f1:.4f}\")\n",
        "\n",
        "    return accuracy, precision, recall, f1\n"
      ],
      "metadata": {
        "id": "Xe6Ct23mTWwe"
      },
      "execution_count": 7,
      "outputs": []
    },
    {
      "cell_type": "code",
      "source": [
        "# Ensure labels match the number of samples used for feature extraction\n",
        "y_train_subset = y_train[:X_train_resnet_features.shape[0]]\n",
        "y_test_subset = y_test[:X_test_resnet_features.shape[0]]\n",
        "\n",
        "# Train and evaluate on ResNet50 features\n",
        "resnet_acc, resnet_prec, resnet_rec, resnet_f1 = train_and_evaluate_rf(\n",
        "    X_train_resnet_features, X_test_resnet_features, y_train_subset, y_test_subset, \"ResNet50\"\n",
        ")\n",
        "\n",
        "# Ensure consistency for MobileNet\n",
        "y_train_subset = y_train[:X_train_mobilenet_features.shape[0]]\n",
        "y_test_subset = y_test[:X_test_mobilenet_features.shape[0]]\n",
        "\n",
        "# Train and evaluate on MobileNetV2 features\n",
        "mobilenet_acc, mobilenet_prec, mobilenet_rec, mobilenet_f1 = train_and_evaluate_rf(\n",
        "    X_train_mobilenet_features, X_test_mobilenet_features, y_train_subset, y_test_subset, \"MobileNetV2\"\n",
        ")\n",
        "\n",
        "# Ensure consistency for VGG16\n",
        "y_train_subset = y_train[:X_train_vgg_features.shape[0]]\n",
        "y_test_subset = y_test[:X_test_vgg_features.shape[0]]\n",
        "\n",
        "# Train and evaluate on VGG16 features\n",
        "vgg_acc, vgg_prec, vgg_rec, vgg_f1 = train_and_evaluate_rf(\n",
        "    X_train_vgg_features, X_test_vgg_features, y_train_subset, y_test_subset, \"VGG16\"\n",
        ")\n"
      ],
      "metadata": {
        "colab": {
          "base_uri": "https://localhost:8080/"
        },
        "id": "4DfQoAaNTZck",
        "outputId": "acae08b2-cee9-47c1-b73f-77c87b6319a1"
      },
      "execution_count": 10,
      "outputs": [
        {
          "output_type": "stream",
          "name": "stdout",
          "text": [
            "\n",
            "🎯 ResNet50 Performance (Random Forest Classifier):\n",
            "✅ Accuracy: 0.9490\n",
            "✅ Precision: 0.9496\n",
            "✅ Recall: 0.9490\n",
            "✅ F1-score: 0.9487\n",
            "\n",
            "🎯 MobileNetV2 Performance (Random Forest Classifier):\n",
            "✅ Accuracy: 0.9480\n",
            "✅ Precision: 0.9485\n",
            "✅ Recall: 0.9480\n",
            "✅ F1-score: 0.9481\n",
            "\n",
            "🎯 VGG16 Performance (Random Forest Classifier):\n",
            "✅ Accuracy: 0.9650\n",
            "✅ Precision: 0.9652\n",
            "✅ Recall: 0.9650\n",
            "✅ F1-score: 0.9650\n"
          ]
        }
      ]
    },
    {
      "cell_type": "code",
      "source": [
        "print(\"\\n📊 Final Summary of Classification Results (Random Forest):\")\n",
        "print(f\"🔹 ResNet50    → Accuracy: {resnet_acc:.4f}, Precision: {resnet_prec:.4f}, Recall: {resnet_rec:.4f}, F1-score: {resnet_f1:.4f}\")\n",
        "print(f\"🔹 MobileNetV2 → Accuracy: {mobilenet_acc:.4f}, Precision: {mobilenet_prec:.4f}, Recall: {mobilenet_rec:.4f}, F1-score: {mobilenet_f1:.4f}\")\n",
        "print(f\"🔹 VGG16       → Accuracy: {vgg_acc:.4f}, Precision: {vgg_prec:.4f}, Recall: {vgg_rec:.4f}, F1-score: {vgg_f1:.4f}\")\n"
      ],
      "metadata": {
        "colab": {
          "base_uri": "https://localhost:8080/"
        },
        "id": "qV8ALhK9Tbb4",
        "outputId": "ab7e562a-cfdb-4ebb-e4ba-8ed6e82f98ae"
      },
      "execution_count": 11,
      "outputs": [
        {
          "output_type": "stream",
          "name": "stdout",
          "text": [
            "\n",
            "📊 Final Summary of Classification Results (Random Forest):\n",
            "🔹 ResNet50    → Accuracy: 0.9490, Precision: 0.9496, Recall: 0.9490, F1-score: 0.9487\n",
            "🔹 MobileNetV2 → Accuracy: 0.9480, Precision: 0.9485, Recall: 0.9480, F1-score: 0.9481\n",
            "🔹 VGG16       → Accuracy: 0.9650, Precision: 0.9652, Recall: 0.9650, F1-score: 0.9650\n"
          ]
        }
      ]
    },
    {
      "cell_type": "code",
      "source": [
        "import matplotlib.pyplot as plt\n",
        "import numpy as np\n",
        "\n",
        "# Accuracy values (Replace these with actual computed accuracies)\n",
        "accuracies = {\n",
        "    \"LBP\": 95.2,         # Example value, replace with actual\n",
        "    \"HOG\": 49.2,        # Example value, replace with actual\n",
        "    \"ResNet50\": 94.0,   # Replace with actual\n",
        "    \"VGG16\": 94.8,      # Replace with actual\n",
        "    \"MobileNetV2\": 96.5 # Replace with actual\n",
        "}\n",
        "\n",
        "# Separate traditional and deep learning methods\n",
        "methods = list(accuracies.keys())\n",
        "accuracy_values = list(accuracies.values())\n",
        "\n",
        "# Colors: Traditional (blue), Deep Learning (green)\n",
        "colors = [\"blue\" if method in [\"LBP\", \"HOG\"] else \"green\" for method in methods]\n",
        "\n",
        "# Plot bar chart\n",
        "plt.figure(figsize=(10, 6))\n",
        "plt.bar(methods, accuracy_values, color=colors)\n",
        "\n",
        "# Labels and title\n",
        "plt.xlabel(\"Feature Extraction Method\", fontsize=12)\n",
        "plt.ylabel(\"Accuracy (%)\", fontsize=12)\n",
        "plt.title(\"Accuracy Comparison of Traditional vs Deep Learning Feature Extraction\", fontsize=14)\n",
        "plt.ylim(50, 100)  # Set y-axis limit for better visualization\n",
        "plt.xticks(rotation=20)\n",
        "\n",
        "# Show values on top of bars\n",
        "for i, acc in enumerate(accuracy_values):\n",
        "    plt.text(i, acc + 1, f\"{acc:.1f}%\", ha='center', fontsize=10)\n",
        "\n",
        "# Show plot\n",
        "plt.show()\n"
      ],
      "metadata": {
        "colab": {
          "base_uri": "https://localhost:8080/",
          "height": 598
        },
        "id": "FNxCME-zYo8r",
        "outputId": "f3c32a52-b90f-45e3-849a-3817a99b7218"
      },
      "execution_count": 12,
      "outputs": [
        {
          "output_type": "display_data",
          "data": {
            "text/plain": [
              "<Figure size 1000x600 with 1 Axes>"
            ],
            "image/png": "[encoded data removed]"
          },
          "metadata": {}
        }
      ]
    }
  ]
}